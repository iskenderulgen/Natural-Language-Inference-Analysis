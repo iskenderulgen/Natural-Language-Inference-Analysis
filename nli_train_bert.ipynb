{
 "cells": [
  {
   "cell_type": "code",
   "execution_count": null,
   "id": "8646954a",
   "metadata": {},
   "outputs": [],
   "source": [
    "from transformers import (\n",
    "    AutoTokenizer,\n",
    "    AutoModelForSequenceClassification,\n",
    "    TrainingArguments,\n",
    "    Trainer,\n",
    "    DataCollatorWithPadding,\n",
    ")\n",
    "import numpy as np\n",
    "from datasets import Dataset, DatasetDict\n",
    "import evaluate\n",
    "import torch\n",
    "from utils import load_nli_data\n",
    "\n",
    "# Device\n",
    "device = torch.device(\"cuda\" if torch.cuda.is_available() else \"cpu\")\n",
    "print(\"Using device:\", device)\n",
    "\n",
    "label_map = {\"entailment\": 0, \"contradiction\": 1, \"neutral\": 2}\n",
    "# reverse it: id→name\n",
    "id2label = {v: k for k, v in label_map.items()}"
   ]
  },
  {
   "cell_type": "markdown",
   "id": "407405d2",
   "metadata": {},
   "source": [
    "# Read Model and Tokenize NLI Dataset"
   ]
  },
  {
   "cell_type": "code",
   "execution_count": null,
   "id": "1cb17423",
   "metadata": {},
   "outputs": [],
   "source": [
    "tokenizer = AutoTokenizer.from_pretrained(\"data/bert-base-uncased\")\n",
    "\n",
    "model = AutoModelForSequenceClassification.from_pretrained(\n",
    "    \"data/bert-base-uncased\",\n",
    "    num_labels=3,\n",
    ")\n",
    "\n",
    "snli_train = load_nli_data(\"data/snli_1.0_train.jsonl\")\n",
    "snli_dev = load_nli_data(\"data/snli_1.0_dev.jsonl\")\n",
    "snli_test = load_nli_data(\"data/snli_1.0_test.jsonl\")"
   ]
  },
  {
   "cell_type": "code",
   "execution_count": null,
   "id": "38f2518e",
   "metadata": {},
   "outputs": [],
   "source": [
    "def preprocess_function(examples):\n",
    "    return tokenizer(\n",
    "        examples[\"sentence1\"], examples[\"sentence2\"], truncation=True, max_length=512\n",
    "    )\n",
    "\n",
    "\n",
    "snli_dataset = DatasetDict(\n",
    "    {\n",
    "        \"train\": Dataset.from_pandas(snli_train),\n",
    "        \"validation\": Dataset.from_pandas(snli_dev),\n",
    "    }\n",
    ")\n",
    "\n",
    "snli_dataset = snli_dataset.map(preprocess_function).remove_columns(\n",
    "    [\"sentence1\", \"sentence2\"]\n",
    ")"
   ]
  },
  {
   "cell_type": "markdown",
   "id": "591ba67d",
   "metadata": {},
   "source": [
    "# Initialize the model and parameters"
   ]
  },
  {
   "cell_type": "code",
   "execution_count": null,
   "id": "3f1e0fd8",
   "metadata": {},
   "outputs": [],
   "source": [
    "metric = evaluate.load(\"glue\", \"mnli\")\n",
    "data_collator = DataCollatorWithPadding(tokenizer=tokenizer)\n",
    "\n",
    "\n",
    "def compute_metrics(eval_pred):\n",
    "    predictions, labels = eval_pred\n",
    "    predictions = np.argmax(predictions, axis=1)\n",
    "    return metric.compute(predictions=predictions, references=labels)\n",
    "\n",
    "\n",
    "args = TrainingArguments(\n",
    "    output_dir=\"data/checkpoints/\",\n",
    "    eval_strategy=\"epoch\",\n",
    "    logging_steps=500,\n",
    "    save_strategy=\"no\",\n",
    "    learning_rate=2e-5,\n",
    "    bf16=True,\n",
    "    seed=42,\n",
    "    weight_decay=0.01,\n",
    "    optim=\"adamw_torch_fused\",\n",
    "    per_device_train_batch_size=128,\n",
    "    per_device_eval_batch_size=128,\n",
    "    num_train_epochs=1,\n",
    ")\n",
    "\n",
    "trainer = Trainer(\n",
    "    model=model,\n",
    "    args=args,\n",
    "    train_dataset=snli_dataset[\"train\"],\n",
    "    eval_dataset=snli_dataset[\"validation\"],\n",
    "    tokenizer=tokenizer,\n",
    "    data_collator=data_collator,\n",
    "    compute_metrics=compute_metrics,\n",
    ")"
   ]
  },
  {
   "cell_type": "markdown",
   "id": "fa3f3a63",
   "metadata": {},
   "source": [
    "# Train and Evaluate the model"
   ]
  },
  {
   "cell_type": "code",
   "execution_count": null,
   "id": "c2a8bb10",
   "metadata": {},
   "outputs": [],
   "source": [
    "trainer.train()"
   ]
  },
  {
   "cell_type": "code",
   "execution_count": null,
   "id": "e2247d42",
   "metadata": {},
   "outputs": [],
   "source": [
    "trainer.evaluate()"
   ]
  },
  {
   "cell_type": "markdown",
   "id": "97f7ed00",
   "metadata": {},
   "source": [
    "# Evaluate the model on the test set"
   ]
  },
  {
   "cell_type": "code",
   "execution_count": null,
   "id": "8b339358",
   "metadata": {},
   "outputs": [],
   "source": [
    "test_data = (\n",
    "    Dataset.from_pandas(snli_test)\n",
    "    .map(preprocess_function)\n",
    "    .remove_columns([\"sentence1\", \"sentence2\"])\n",
    ")\n",
    "\n",
    "predictions = trainer.predict(test_data)\n",
    "\n",
    "predictions = np.argmax(predictions.predictions, axis=1)\n",
    "accuracy = (predictions == test_data[\"label\"]).mean()\n",
    "print(f\"Accuracy: {accuracy}\")"
   ]
  },
  {
   "cell_type": "markdown",
   "id": "237ff405",
   "metadata": {},
   "source": [
    "# Save the model"
   ]
  },
  {
   "cell_type": "code",
   "execution_count": null,
   "id": "58a64fd5",
   "metadata": {},
   "outputs": [],
   "source": [
    "model.save_pretrained(\"data/checkpoints/bert-snli\")\n",
    "tokenizer.save_pretrained(\"data/checkpoints/bert-snli\")"
   ]
  }
 ],
 "metadata": {
  "kernelspec": {
   "display_name": "contradiction",
   "language": "python",
   "name": "python3"
  },
  "language_info": {
   "codemirror_mode": {
    "name": "ipython",
    "version": 3
   },
   "file_extension": ".py",
   "mimetype": "text/x-python",
   "name": "python",
   "nbconvert_exporter": "python",
   "pygments_lexer": "ipython3",
   "version": "3.11.11"
  }
 },
 "nbformat": 4,
 "nbformat_minor": 5
}
